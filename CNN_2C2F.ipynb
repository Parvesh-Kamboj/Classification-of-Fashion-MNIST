{
 "cells": [
  {
   "cell_type": "code",
   "execution_count": 28,
   "id": "eb762a31",
   "metadata": {},
   "outputs": [],
   "source": [
    "from torch.utils.data import Dataset, DataLoader\n",
    "from torchvision import transforms, utils\n",
    "from torch.autograd import Variable\n",
    "import matplotlib.pyplot as plt\n",
    "import torch.optim as optim\n",
    "import torch.nn as nn\n",
    "import urllib.request\n",
    "import numpy as np\n",
    "import random\n",
    "import struct\n",
    "import torch\n",
    "import errno\n",
    "import math\n",
    "import gzip\n",
    "import io\n",
    "import os"
   ]
  },
  {
   "cell_type": "code",
   "execution_count": 13,
   "id": "72e2e67c",
   "metadata": {},
   "outputs": [],
   "source": [
    "class Fashion(Dataset):\n",
    "    urls = ['http://fashion-mnist.s3-website.eu-central-1.amazonaws.com/train-images-idx3-ubyte.gz',\n",
    "         'http://fashion-mnist.s3-website.eu-central-1.amazonaws.com/train-labels-idx1-ubyte.gz',\n",
    "         'http://fashion-mnist.s3-website.eu-central-1.amazonaws.com/t10k-images-idx3-ubyte.gz',\n",
    "         'http://fashion-mnist.s3-website.eu-central-1.amazonaws.com/t10k-labels-idx1-ubyte.gz']\n",
    "    file_name =['train-images-idx3-ubyte',\n",
    "            'train-labels-idx1-ubyte',\n",
    "            't10k-images-idx3-ubyte',\n",
    "            't10k-labels-idx1-ubyte']\n",
    "    raw = \"raw\"\n",
    "    processsed = \"processed\"\n",
    "\n",
    "    def __init__(self, root, train=True, transform=True, download=False):\n",
    "        super(Fashion, self).__init__()\n",
    "        self.root = root\n",
    "        self.transform = transform\n",
    "        self.train = train\n",
    "        self.tensor_transform = transforms.ToTensor()\n",
    "        raw_path = os.path.join(self.root,self.raw)\n",
    "    \n",
    "        if download and (os.path.exists(raw_path) == False):\n",
    "            self.download(self.root)\n",
    "        \n",
    "        if self.train:\n",
    "            train_path = os.path.join(self.root,self.processsed,\"training_set.pt\")\n",
    "            self.train_images, self.train_labels = torch.load(train_path)\n",
    "        else:\n",
    "            test_path = os.path.join(self.root,self.processsed,\"testing_set.pt\")\n",
    "            self.test_images, self.test_labels = torch.load(test_path)\n",
    "        \n",
    "        '''__getitem__(index): Will return the image and label at the specified index'''\n",
    "        \n",
    "    def __getitem__(self,index):\n",
    "            if self.train:\n",
    "                image, label = self.train_images[index], self.train_labels[index]\n",
    "            else:\n",
    "                image, label = self.test_images[index], self.test_labels[index]\n",
    "                \n",
    "            image = image.numpy()\n",
    "            image = np.rot90(image,axes = (1,2)).copy()\n",
    "            \n",
    "            if self.transform and self.train:\n",
    "                image = self.transform_process(image)\n",
    "                image = self.tensor_transform(image)\n",
    "                image = image.contiguous()\n",
    "                image = image.view(1,28,28)\n",
    "                return image,label\n",
    "    \n",
    "    def __len__(self):\n",
    "        if self.train:\n",
    "            return(len(self.train_images))\n",
    "        else:\n",
    "            return(len(self.test_images))\n",
    "\n",
    "    def transform_process(self, image): #Would or would not return a flipped image\n",
    "        self.rotate = random.getrandbits(1)\n",
    "        image = np.flip(image,self.rotate).copy()\n",
    "        return image\n",
    "    \n",
    "    '''\n",
    "    download(root) -> The function will download and save the MNIST images in raw format under the 'pre' folder\n",
    "    '''\n",
    "    \n",
    "    def download(self, root):\n",
    "        raw_path = os.path.join(self.root,self.raw)\n",
    "        processsed_path = os.path.join(self.root,self.processsed)\n",
    "        try:\n",
    "            os.makedirs(raw_path)\n",
    "            os.makedirs(processsed_path)\n",
    "        except OSError as exc:\n",
    "            if exc.errno != errno.EEXIST:\n",
    "                raise\n",
    "            pass\n",
    "        \n",
    "        for file_index in range(len(self.file_name)):\n",
    "            print(\"Downloading:\",self.urls[file_index])\n",
    "            urllib.request.urlretrieve(self.urls[file_index],(self.file_name[file_index]+'.gz'))\n",
    "            print(\"Extracting:\",self.file_name[file_index]+\".gz\")\n",
    "            f = gzip.open(self.file_name[file_index]+'.gz', 'rb')\n",
    "            with open(raw_path+\"/\"+self.file_name[file_index],'wb') as w:\n",
    "                for line in f.readlines():\n",
    "                    w.write(line)\n",
    "            f.close()\n",
    "            os.remove(self.file_name[file_index]+\".gz\")\n",
    "            \n",
    "        print()\n",
    "        print(\"Raw data downloaded and extracted in your specified root directory under /raw\")\n",
    "        print()\n",
    "        self.process(self.root)\n",
    "\n",
    "        '''process(root) -> Will process the raw downloaded files into a usable formatand store them into the a 'post' folder'''\n",
    "    \n",
    "    def process(self, root):\n",
    "        raw_path = os.path.join(self.root,self.raw)\n",
    "        processsed_path = os.path.join(self.root,self.processsed)\n",
    "        \n",
    "        print(\"Processing training data\")\n",
    "        train_image = self.readimg(self.root, self.file_name[0], 2051)\n",
    "        train_label\t= self.readlab(self.root, self.file_name[1], 2049)\n",
    "        train_data = (train_image,train_label)\n",
    "        \n",
    "        print(\"Processing testing data\")\n",
    "        test_image = self.readimg(self.root, self.file_name[2], 2051)\n",
    "        test_label = self.readlab(self.root, self.file_name[3], 2049)\n",
    "        test_data = (test_image,test_label)\n",
    "        \n",
    "        train_path = os.path.join(self.root,self.processsed,\"training_set.pt\")\n",
    "        with open(train_path,\"wb\") as f:\n",
    "            torch.save(train_data,f)\n",
    "        \n",
    "        test_path = os.path.join(self.root,self.processsed,\"testing_set.pt\")\n",
    "        with open(test_path,\"wb\") as f:\n",
    "            torch.save(test_data,f)\n",
    "            \n",
    "        print()\n",
    "        print(\"Processed data has been stored in your specified root directory under /processsed\")\n",
    "        print()\n",
    "        \n",
    "        \n",
    "    def readimg(self, root, file, magic):\n",
    "        image = []\n",
    "        path = os.path.join(self.root,self.raw,file)\n",
    "        with open(path,'rb') as f:\n",
    "            magic_number, size, row, col = struct.unpack('>IIII',f.read(16))\n",
    "            assert (magic_number == magic)\n",
    "            for run in range(size*row*col):\n",
    "                image.append(list(struct.unpack('B',f.read(1)))[0])\n",
    "            image = np.asarray(image, dtype = np.float32)\n",
    "            return (torch.from_numpy(image).view(size,1,row,col))\n",
    "    \n",
    "    \n",
    "    def readlab(self, root, file, magic):\n",
    "        label = []\n",
    "        path = os.path.join(self.root,self.raw,file)\n",
    "        with open(path,'rb') as f:\n",
    "            magic_number, size = struct.unpack(\">II\",f.read(8))\n",
    "            assert (magic_number == magic)\n",
    "            for run in range(size):\n",
    "                label.append(list(struct.unpack('b',f.read(1)))[0])\n",
    "            label = np.asarray(label)\n",
    "            return (torch.from_numpy(label))\n"
   ]
  },
  {
   "cell_type": "code",
   "execution_count": 31,
   "id": "0c2f5fed",
   "metadata": {},
   "outputs": [
    {
     "name": "stdout",
     "output_type": "stream",
     "text": [
      "Downloading: http://fashion-mnist.s3-website.eu-central-1.amazonaws.com/train-images-idx3-ubyte.gz\n",
      "Extracting: train-images-idx3-ubyte.gz\n",
      "Downloading: http://fashion-mnist.s3-website.eu-central-1.amazonaws.com/train-labels-idx1-ubyte.gz\n",
      "Extracting: train-labels-idx1-ubyte.gz\n",
      "Downloading: http://fashion-mnist.s3-website.eu-central-1.amazonaws.com/t10k-images-idx3-ubyte.gz\n",
      "Extracting: t10k-images-idx3-ubyte.gz\n",
      "Downloading: http://fashion-mnist.s3-website.eu-central-1.amazonaws.com/t10k-labels-idx1-ubyte.gz\n",
      "Extracting: t10k-labels-idx1-ubyte.gz\n",
      "\n",
      "Raw data downloaded and extracted in your specified root directory under /raw\n",
      "\n",
      "Processing training data\n",
      "Processing testing data\n",
      "\n",
      "Processed data has been stored in your specified root directory under /processsed\n",
      "\n"
     ]
    }
   ],
   "source": [
    "train_dataset = Fashion(root = \"./FashionMNIS\", train = True, transform = True, download = True)\n",
    "test_dataset = Fashion(root = \"./FashionMNIS\", train = False, transform = False, download = True)"
   ]
  },
  {
   "cell_type": "code",
   "execution_count": 32,
   "id": "ad71bc81",
   "metadata": {},
   "outputs": [],
   "source": [
    "# Calculation of total epochs \n",
    "batch_size = 100\n",
    "n_iters = 18000\n",
    "epoch_size = n_iters/(len(train_dataset)/batch_size)"
   ]
  },
  {
   "cell_type": "code",
   "execution_count": 33,
   "id": "d06cc312",
   "metadata": {},
   "outputs": [],
   "source": [
    "# Loading the test dataset (test_loader)\n",
    "test_loader = torch.utils.data.DataLoader(dataset = test_dataset, batch_size = batch_size, shuffle = False)"
   ]
  },
  {
   "cell_type": "code",
   "execution_count": 34,
   "id": "0221bf01",
   "metadata": {},
   "outputs": [
    {
     "data": {
      "image/png": "[encoded data removed]",
      "text/plain": [
       "<Figure size 432x288 with 1 Axes>"
      ]
     },
     "metadata": {
      "needs_background": "light"
     },
     "output_type": "display_data"
    },
    {
     "data": {
      "image/png": "[encoded data removed]",
      "text/plain": [
       "<Figure size 432x288 with 1 Axes>"
      ]
     },
     "metadata": {
      "needs_background": "light"
     },
     "output_type": "display_data"
    },
    {
     "data": {
      "image/png": "[encoded data removed]",
      "text/plain": [
       "<Figure size 432x288 with 1 Axes>"
      ]
     },
     "metadata": {
      "needs_background": "light"
     },
     "output_type": "display_data"
    },
    {
     "data": {
      "image/png": "[encoded data removed]",
      "text/plain": [
       "<Figure size 432x288 with 1 Axes>"
      ]
     },
     "metadata": {
      "needs_background": "light"
     },
     "output_type": "display_data"
    },
    {
     "data": {
      "image/png": "[encoded data removed]",
      "text/plain": [
       "<Figure size 432x288 with 1 Axes>"
      ]
     },
     "metadata": {
      "needs_background": "light"
     },
     "output_type": "display_data"
    },
    {
     "data": {
      "image/png": "[encoded data removed]",
      "text/plain": [
       "<Figure size 432x288 with 1 Axes>"
      ]
     },
     "metadata": {
      "needs_background": "light"
     },
     "output_type": "display_data"
    }
   ],
   "source": [
    "image_dict = {0:'T-shirt/Top', 1:'Trouser', 2:'Pullover', 3:'Dress',4:'Coat', 5:'Sandal', 6:'Shirt', 7:'Sneaker',\n",
    "               8:'Bag', 9:'Ankle Boot'}\n",
    "for index, (images,labels) in enumerate(test_loader):\n",
    "    image=images[index][0]\n",
    "    label = int(labels[index]);\n",
    "#     print(label)\n",
    "    plt.imshow(image)\n",
    "    plt.suptitle(image_dict[label] +\" - \"+str(label))\n",
    "    plt.show()\n",
    "    if index == 5:\n",
    "        break\n"
   ]
  },
  {
   "cell_type": "code",
   "execution_count": 35,
   "id": "0619952e",
   "metadata": {},
   "outputs": [],
   "source": [
    "'''\n",
    "Model Details:\n",
    "\n",
    "Two Convolutional Layers:\n",
    "      - Using ReLU activation\n",
    "      - Batch Normalisation\n",
    "      - Uniform Xavier Weigths\n",
    "      - Max Pooling\n",
    "      \n",
    "One Fully Connected Layer:\n",
    "      - Using ReLU activation\n",
    "      \n",
    "One Fully Connected Layer:\n",
    "      - Output Layer\n",
    "\n",
    "'''\n",
    "\n",
    "\n",
    "class CNNModel(nn.Module):\n",
    "\tdef __init__(self):\n",
    "\t\tsuper (CNNModel, self).__init__()\n",
    "\n",
    "\t\tself.cnn1 = nn.Conv2d(in_channels = 1, out_channels = 32, kernel_size = 5, stride = 1, padding = 2)\n",
    "\t\tself.relu1 = nn.ReLU()\n",
    "\t\tself.norm1 = nn.BatchNorm2d(32)\n",
    "\t\tnn.init.xavier_uniform(self.cnn1.weight)\n",
    "\n",
    "\t\tself.maxpool1 = nn.MaxPool2d(kernel_size=2)\n",
    "\n",
    "\t\tself.cnn2 = nn.Conv2d(in_channels = 32, out_channels = 64, kernel_size = 3, stride = 1, padding = 2)\n",
    "\t\tself.relu2 = nn.ReLU()\n",
    "\t\tself.norm2 = nn.BatchNorm2d(64)\n",
    "\t\tnn.init.xavier_uniform(self.cnn2.weight)\n",
    "\n",
    "\t\tself.maxpool2 = nn.MaxPool2d(kernel_size=2)\n",
    "\n",
    "\t\tself.fc1 = nn.Linear(4096, 4096)\n",
    "\t\tself.fcrelu = nn.ReLU()\n",
    "        \n",
    "\t\tself.fc2 = nn.Linear(4096, 10)\n",
    "\n",
    "\tdef forward(self, x):\n",
    "\t\tout = self.cnn1(x)\n",
    "\t\tout = self.relu1(out)\n",
    "\t\tout = self.norm1(out)\n",
    "\n",
    "\t\tout = self.maxpool1(out)\n",
    "\n",
    "\t\tout = self.cnn2(out)\n",
    "\t\tout = self.relu2(out)\n",
    "\t\tout = self.norm2(out)\n",
    "\n",
    "\t\tout = self.maxpool2(out)\n",
    "\n",
    "\t\tout = out.view(out.size(0),-1)\n",
    "\n",
    "\t\tout = self.fc1(out)\n",
    "\t\tout = self.fcrelu(out)\n",
    "\n",
    "\t\tout = self.fc2(out)\n",
    "\t\treturn out\n"
   ]
  },
  {
   "cell_type": "code",
   "execution_count": 36,
   "id": "201c60b5",
   "metadata": {},
   "outputs": [
    {
     "name": "stderr",
     "output_type": "stream",
     "text": [
      "<ipython-input-35-5870defea15b>:26: UserWarning: nn.init.xavier_uniform is now deprecated in favor of nn.init.xavier_uniform_.\n",
      "  nn.init.xavier_uniform(self.cnn1.weight)\n",
      "<ipython-input-35-5870defea15b>:33: UserWarning: nn.init.xavier_uniform is now deprecated in favor of nn.init.xavier_uniform_.\n",
      "  nn.init.xavier_uniform(self.cnn2.weight)\n"
     ]
    }
   ],
   "source": [
    "'''\n",
    "Instantiating the model class\n",
    "'''\n",
    "\n",
    "model = CNNModel()\n",
    "if torch.cuda.is_available():\n",
    "\tmodel.cuda()"
   ]
  },
  {
   "cell_type": "code",
   "execution_count": 37,
   "id": "ada3dcd0",
   "metadata": {},
   "outputs": [],
   "source": [
    "'''\n",
    "Loss Function: Cross Entropy Loss\n",
    "Optimizer: Stochastic Gradient Descent (Nesterov Momentum is enabled).\n",
    "\n",
    "Variable: learning_rate -> Stores the learning rate for the optimizer function.\n",
    "          moment -> Stores the momentum for the optimizer function.\n",
    "'''\n",
    "\n",
    "criterion = nn.CrossEntropyLoss()\n",
    "\n",
    "learning_rate = 0.015\n",
    "moment = 0.9\n",
    "optimizer = optim.SGD(model.parameters(),lr = learning_rate, momentum = moment, nesterov = True)"
   ]
  },
  {
   "cell_type": "code",
   "execution_count": null,
   "id": "057889ba",
   "metadata": {},
   "outputs": [],
   "source": [
    "iter = 0\n",
    "for epoch in range(int(math.ceil(epoch_size))):\n",
    "\n",
    "\t'''\n",
    "\tLoading the training dataset after every epoch which will\n",
    "\tload it from the Fashion Dataset Class making a new train\n",
    "\tloader for every new epoch causing random flips and random\n",
    "\tshuffling of above exampled Fashion MNIST images. \n",
    "\t'''\n",
    "\n",
    "\ttrain_loader = torch.utils.data.DataLoader(dataset = train_dataset, batch_size = batch_size, shuffle = True)\n",
    "\tfor i, (images, labels) in enumerate(train_loader):\n",
    "\t\tif torch.cuda.is_available():\n",
    "\t\t\timages = Variable(images.cuda())\n",
    "\t\t\tlabels = Variable(labels.cuda())\n",
    "\t\telse:\n",
    "\t\t\timages = Variable(images)\n",
    "\t\t\tlabels = Variable(labels)\n",
    "\t\toptimizer.zero_grad()\n",
    "\t\toutputs = model(images)\n",
    "\t\tloss = criterion(outputs,labels)\n",
    "\t\tloss.backward()\n",
    "\t\toptimizer.step()\n",
    "\t\titer += 1\n",
    "\n",
    "\t\t'''\n",
    "\t\tAt every 3000th epoch a test on the above initialised test dataset\n",
    "\t\t(test_loader) would be performed and an accuracy would be provided.\n",
    "\t\t'''\n",
    "\n",
    "\t\tif iter%3000 == 0:\n",
    "\t\t\tcorrect = 0\n",
    "\t\t\ttotal = 0\n",
    "\t\t\tfor image,label in test_loader:\n",
    "\t\t\t\tif torch.cuda.is_available():\n",
    "\t\t\t\t\timage = Variable(image.cuda())\n",
    "\t\t\t\telse:\n",
    "                    \t\t\t\t\timage = Variable(image)\n",
    "\t\t\t\toutput = model(image)\n",
    "\t\t\t\t_, predicted = torch.max(output.data,1)\n",
    "\t\t\t\ttotal += label.size(0)\n",
    "\t\t\t\tif torch.cuda.is_available():\n",
    "\t\t\t\t\tcorrect += (predicted.cpu() == label.cpu()).sum()\n",
    "\t\t\t\telse:\n",
    "\t\t\t\t\tcorrect += (predicted == label).sum()\n",
    "\n",
    "\t\t\taccuracy = 100 * (correct/total)\n",
    "\t\t\tprint('Iteration: {} Loss: {} Accuracy: {}'.format(iter, round(float(loss.data),5), round(float(accuracy),2)))"
   ]
  },
  {
   "cell_type": "code",
   "execution_count": 47,
   "id": "ecd4f4c2",
   "metadata": {},
   "outputs": [
    {
     "name": "stdout",
     "output_type": "stream",
     "text": [
      "Iteration: 3000 Loss: 0.15411 Accuracy: 91.19\n"
     ]
    }
   ],
   "source": [
    "print('Iteration: {} Loss: {} Accuracy: {}'.format(iter, round(float(loss.data),5), round(float(accuracy),2)))"
   ]
  },
  {
   "cell_type": "code",
   "execution_count": null,
   "id": "65a7ba07",
   "metadata": {},
   "outputs": [],
   "source": []
  }
 ],
 "metadata": {
  "kernelspec": {
   "display_name": "Python 3",
   "language": "python",
   "name": "python3"
  },
  "language_info": {
   "codemirror_mode": {
    "name": "ipython",
    "version": 3
   },
   "file_extension": ".py",
   "mimetype": "text/x-python",
   "name": "python",
   "nbconvert_exporter": "python",
   "pygments_lexer": "ipython3",
   "version": "3.8.8"
  }
 },
 "nbformat": 4,
 "nbformat_minor": 5
}
